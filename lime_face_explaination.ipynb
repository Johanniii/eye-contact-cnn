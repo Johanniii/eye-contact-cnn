{
 "cells": [
  {
   "attachments": {},
   "cell_type": "markdown",
   "id": "a40058e5-5a54-4f89-a813-7cfdab21a3d0",
   "metadata": {
    "tags": []
   },
   "source": [
    "# Image Classification -- Understanding the Process"
   ]
  },
  {
   "attachments": {},
   "cell_type": "markdown",
   "id": "634bd991-11a0-4d6d-a02f-e5da9ff39419",
   "metadata": {
    "tags": []
   },
   "source": [
    "Code taken and adapted from https://debuggercafe.com/visualizing-filters-and-feature-maps-in-convolutional-neural-networks-using-pytorch/ and "
   ]
  },
  {
   "cell_type": "code",
   "execution_count": null,
   "id": "fa8a5286-55b1-4ffb-be04-f0524af73cb8",
   "metadata": {
    "tags": []
   },
   "outputs": [],
   "source": [
    "import torch\n",
    "import torch.nn as nn\n",
    "from torchvision import models # PyTorch image processing lib\n",
    "from tqdm.notebook import trange, tqdm"
   ]
  },
  {
   "attachments": {},
   "cell_type": "markdown",
   "id": "6fcdadc5-482a-45b0-8d8a-115d0dce9b9e",
   "metadata": {},
   "source": [
    "## Load and Preprocess an image"
   ]
  },
  {
   "cell_type": "code",
   "execution_count": null,
   "id": "b76018fc-7492-47f2-9329-aefc3293a04e",
   "metadata": {},
   "outputs": [],
   "source": [
    "import cv2 as cv # python library for image processing\n",
    "from torchvision import transforms\n",
    "import numpy as np\n",
    "import matplotlib.pyplot as plt"
   ]
  },
  {
   "cell_type": "code",
   "execution_count": null,
   "id": "e62ad259-cd84-4519-81b7-4b2b39a0204c",
   "metadata": {
    "tags": []
   },
   "outputs": [],
   "source": [
    "raw = cv.imread(\"data/annot3_face2.png\") # f\"data/images/space_shuttle.jpg\")# \n",
    "raw = cv.cvtColor(raw, cv.COLOR_BGR2RGB) # convert colorspace\n",
    "plt.imshow(raw)\n",
    "plt.show()"
   ]
  },
  {
   "attachments": {},
   "cell_type": "markdown",
   "id": "ede1f4e1",
   "metadata": {},
   "source": [
    "## umformen"
   ]
  },
  {
   "cell_type": "code",
   "execution_count": null,
   "id": "b034ef88-d7ca-4b25-88fe-03981a3e6fa6",
   "metadata": {
    "tags": []
   },
   "outputs": [],
   "source": [
    "pil_transform = transforms.Compose([\n",
    "    transforms.ToPILImage(), # Python Imaging Library\n",
    "    transforms.Resize(224),\n",
    "    transforms.CenterCrop(224),\n",
    "    ])    \n",
    "\n",
    "# adapt normalization from https://pytorch.org/vision/master/models.html\n",
    "normalize_transform = transforms.Normalize(mean=[0.485, 0.456, 0.406],\n",
    "                                    std=[0.229, 0.224, 0.225])     \n",
    "\n",
    "preprocess_transform = transforms.Compose([\n",
    "        transforms.ToTensor(),\n",
    "        normalize_transform\n",
    "    ])    \n",
    "\n",
    "#added\n",
    "test_transforms = transforms.Compose([transforms.Resize(224), transforms.CenterCrop(224), transforms.ToTensor(),\n",
    "                                         transforms.Normalize(mean=[0.485, 0.456, 0.406], std=[0.229, 0.224, 0.225])])\n"
   ]
  },
  {
   "cell_type": "code",
   "execution_count": null,
   "id": "c24a2fa2-751a-44b5-bbd0-6a69ce33d7dc",
   "metadata": {
    "tags": []
   },
   "outputs": [],
   "source": [
    "print(\"Original image shape: \", raw.shape)\n",
    "plt.imshow(raw)"
   ]
  },
  {
   "cell_type": "code",
   "execution_count": null,
   "id": "877cdeb3-ecbc-4fcb-b3df-efc5de23f3f4",
   "metadata": {
    "tags": []
   },
   "outputs": [],
   "source": [
    "np_img = np.array(raw)\n",
    "pil_img = pil_transform(np_img)\n",
    "\n",
    "print(\"PIL image is in mode: \", pil_img.mode, \"with \", len(pil_img.split()), \"channels and size:\", pil_img.size)\n",
    "display(pil_img)"
   ]
  },
  {
   "cell_type": "code",
   "execution_count": null,
   "id": "32d71fcd-1545-41b7-a5fc-634fb65e90cd",
   "metadata": {
    "tags": []
   },
   "outputs": [],
   "source": [
    "tensor_img = preprocess_transform(pil_img)\n",
    "print(tensor_img.size())\n",
    "# unsqueeze to add a batch dimension\n",
    "#img = img.unsqueeze(0)\n",
    "print(tensor_img.size())\n",
    "plt.imshow(tensor_img.transpose(2,0).transpose(0,1))"
   ]
  },
  {
   "attachments": {},
   "cell_type": "markdown",
   "id": "76d4ba6c-0f1b-49fb-9186-4cc23abfb96a",
   "metadata": {
    "tags": []
   },
   "source": [
    "## Predict the image"
   ]
  },
  {
   "cell_type": "code",
   "execution_count": null,
   "id": "9e299871",
   "metadata": {},
   "outputs": [],
   "source": [
    "# added:\n",
    "from model import model_static\n",
    "model = model_static(\"data/model_weights.pkl\")\n",
    "model_dict = model.state_dict()\n",
    "snapshot = torch.load(\"data/model_weights.pkl\")\n",
    "model_dict.update(snapshot)\n",
    "model.load_state_dict(model_dict)\n",
    "\n",
    "model.cuda()\n",
    "#model.to(torch.device('cuda:1'))\n",
    "model.train(False);"
   ]
  },
  {
   "cell_type": "code",
   "execution_count": null,
   "id": "753f5a39",
   "metadata": {},
   "outputs": [],
   "source": [
    "test_transforms = transforms.Compose([transforms.Resize(224), transforms.CenterCrop(224), transforms.ToTensor(),\n",
    "                                         transforms.Normalize(mean=[0.485, 0.456, 0.406], std=[0.229, 0.224, 0.225])])\n"
   ]
  },
  {
   "cell_type": "code",
   "execution_count": null,
   "id": "6211396b-b4fd-4f28-bfa9-2b18c87f538b",
   "metadata": {
    "tags": []
   },
   "outputs": [],
   "source": [
    "out=model(tensor_img.unsqueeze_(0).cuda())\n",
    "\n",
    "# added\n",
    "score = torch.sigmoid(out)\n",
    "print(score)"
   ]
  },
  {
   "attachments": {},
   "cell_type": "markdown",
   "id": "cebc244d-0c5a-4f38-8153-ca2393e9e218",
   "metadata": {
    "tags": []
   },
   "source": [
    "We get 1000 raw scores. One per class."
   ]
  },
  {
   "cell_type": "code",
   "execution_count": null,
   "id": "2115dd67-ea04-4bbe-a512-5e014271577c",
   "metadata": {
    "tags": []
   },
   "outputs": [],
   "source": [
    "_, index = torch.max(out, 1)\n",
    "index"
   ]
  },
  {
   "attachments": {},
   "cell_type": "markdown",
   "id": "bc6b23d5-c1a3-4ee2-a65a-921c29e0cd20",
   "metadata": {
    "tags": []
   },
   "source": [
    "## Find an Explanation for the Classification"
   ]
  },
  {
   "attachments": {},
   "cell_type": "markdown",
   "id": "279513aa-9338-4ab9-9662-86a5821b89c7",
   "metadata": {
    "tags": []
   },
   "source": [
    "For the Lime package install ````lime````"
   ]
  },
  {
   "cell_type": "code",
   "execution_count": null,
   "id": "c2ae5cc9-2b53-4c73-ade5-58bfc7ee9cbe",
   "metadata": {
    "tags": []
   },
   "outputs": [],
   "source": [
    "from lime import lime_image\n",
    "from skimage.segmentation import mark_boundaries"
   ]
  },
  {
   "cell_type": "code",
   "execution_count": null,
   "id": "4bd2f813",
   "metadata": {},
   "outputs": [],
   "source": [
    "def batch_predict(images):\n",
    "    model.eval()\n",
    "    batch = torch.stack(tuple(preprocess_transform(i) for i in images), dim=0)\n",
    "    out = model(batch.cuda())\n",
    "    return torch.sigmoid(out).cpu().detach().numpy()"
   ]
  },
  {
   "cell_type": "code",
   "execution_count": null,
   "id": "915bcb67-9a64-47c0-acb5-a4b9352c727a",
   "metadata": {
    "tags": []
   },
   "outputs": [],
   "source": [
    "explainer = lime_image.LimeImageExplainer()\n",
    "explanation = explainer.explain_instance(np.array(pil_transform(np_img)), \n",
    "                                         batch_predict, # classification function\n",
    "                                         top_labels=5, \n",
    "                                         num_samples=1000) # number of images that will be sent to classification function"
   ]
  },
  {
   "cell_type": "code",
   "execution_count": null,
   "id": "d04e00d1-e3f3-4256-ab51-5f5b7e596057",
   "metadata": {
    "tags": []
   },
   "outputs": [],
   "source": [
    "temp, mask = explanation.get_image_and_mask(explanation.top_labels[0], positive_only=True, num_features=5, hide_rest=True)\n",
    "img_boundry1 = mark_boundaries(temp/255.0, mask)\n",
    "print(type(img_boundry1))\n",
    "print(img_boundry1.shape)\n",
    "plt.imshow(img_boundry1);\n",
    "#plt.savefig(\"data/images/annot3bild2.jpg\")"
   ]
  }
 ],
 "metadata": {
  "kernelspec": {
   "display_name": "condaDL",
   "language": "python",
   "name": "python3"
  },
  "language_info": {
   "codemirror_mode": {
    "name": "ipython",
    "version": 3
   },
   "file_extension": ".py",
   "mimetype": "text/x-python",
   "name": "python",
   "nbconvert_exporter": "python",
   "pygments_lexer": "ipython3",
   "version": "3.10.8"
  }
 },
 "nbformat": 4,
 "nbformat_minor": 5
}
