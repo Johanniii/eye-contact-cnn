{
 "cells": [
  {
   "cell_type": "code",
   "execution_count": 27,
   "metadata": {},
   "outputs": [],
   "source": [
    "from eye_contact_frames import eye_contact_frames \n",
    "import pandas as pd\n",
    "import numpy as np\n",
    "import matplotlib.pyplot as plt\n",
    "\n",
    "\n",
    "from sklearn.metrics import accuracy_score, balanced_accuracy_score, classification_report, confusion_matrix, ConfusionMatrixDisplay"
   ]
  },
  {
   "cell_type": "code",
   "execution_count": 53,
   "metadata": {},
   "outputs": [],
   "source": [
    "def merge_annotations_real(number_annotation, total_frames):\n",
    "    df_annotated = pd.Series(eye_contact_frames(f\"annotations/annotations_{number_annotation}.xml\", total_frames), name = \"annotated\")\n",
    "    df = pd.read_csv(f\"video_annot{number_annotation}_crop_output_mediapipe.txt\", names = [\"frame\", \"acc\"])\n",
    "    print(df_annotated.value_counts())\n",
    "    merged = pd.merge(df, df_annotated, left_on = \"frame\", right_index=True)\n",
    "    return merged"
   ]
  },
  {
   "cell_type": "code",
   "execution_count": 57,
   "metadata": {},
   "outputs": [],
   "source": [
    "def view(threshold, annotations, real):\n",
    "    real_rounded = [x>threshold for x in real]\n",
    "    print(threshold, accuracy_score(annotations, real_rounded), balanced_accuracy_score(annotations, real_rounded))\n",
    "    ConfusionMatrixDisplay(confusion_matrix(annotations, real_rounded)).plot();"
   ]
  },
  {
   "cell_type": "code",
   "execution_count": 54,
   "metadata": {},
   "outputs": [
    {
     "name": "stdout",
     "output_type": "stream",
     "text": [
      "annotated\n",
      "0.0    13960\n",
      "1.0     3040\n",
      "Name: count, dtype: int64\n"
     ]
    }
   ],
   "source": [
    "merged = merge_annotations_real(3, 17000)\n",
    "\n",
    "# classification_report(merged.annotated, [x>threshold for x in merged.acc])"
   ]
  },
  {
   "cell_type": "code",
   "execution_count": 47,
   "metadata": {},
   "outputs": [
    {
     "name": "stdout",
     "output_type": "stream",
     "text": [
      "Threshold 0.2 : accuracy score 0.712 and balanced accuracy score 0.614\n",
      "Threshold 0.25 : accuracy score 0.633 and balanced accuracy score 0.577\n",
      "Threshold 0.3 : accuracy score 0.549 and balanced accuracy score 0.553\n",
      "Threshold 0.35 : accuracy score 0.464 and balanced accuracy score 0.528\n",
      "Threshold 0.4 : accuracy score 0.411 and balanced accuracy score 0.523\n",
      "Threshold 0.45 : accuracy score 0.349 and balanced accuracy score 0.507\n",
      "Threshold 0.5 : accuracy score 0.297 and balanced accuracy score 0.496\n",
      "Threshold 0.55 : accuracy score 0.261 and balanced accuracy score 0.494\n",
      "Threshold 0.6 : accuracy score 0.24 and balanced accuracy score 0.486\n",
      "Threshold 0.65 : accuracy score 0.222 and balanced accuracy score 0.477\n",
      "Threshold 0.7 : accuracy score 0.215 and balanced accuracy score 0.51\n",
      "Threshold 0.75 : accuracy score 0.208 and balanced accuracy score 0.565\n",
      "Threshold 0.8 : accuracy score 0.193 and balanced accuracy score 0.521\n",
      "Threshold 0.85 : accuracy score 0.19 and balanced accuracy score 0.593\n",
      "Threshold 0.9 : accuracy score 0.185 and balanced accuracy score 0.185\n",
      "Threshold 0.95 : accuracy score 0.185 and balanced accuracy score 0.185\n"
     ]
    },
    {
     "name": "stderr",
     "output_type": "stream",
     "text": [
      "c:\\Users\\jojom\\miniconda3\\envs\\condaAP\\lib\\site-packages\\sklearn\\metrics\\_classification.py:2184: UserWarning: y_pred contains classes not in y_true\n",
      "  warnings.warn(\"y_pred contains classes not in y_true\")\n",
      "c:\\Users\\jojom\\miniconda3\\envs\\condaAP\\lib\\site-packages\\sklearn\\metrics\\_classification.py:2184: UserWarning: y_pred contains classes not in y_true\n",
      "  warnings.warn(\"y_pred contains classes not in y_true\")\n"
     ]
    }
   ],
   "source": [
    "for i in np.arange(.2,1,.05):\n",
    "    print(f\"Threshold {round(i,2)} : accuracy score {round(accuracy_score([x>i for x in merged.acc], merged.annotated),3)} and balanced accuracy score {round(balanced_accuracy_score([x>i for x in merged.acc], merged.annotated),3)}\")"
   ]
  },
  {
   "cell_type": "code",
   "execution_count": 48,
   "metadata": {},
   "outputs": [
    {
     "data": {
      "image/png": "[encoded data removed]",
      "text/plain": [
       "<Figure size 640x480 with 2 Axes>"
      ]
     },
     "metadata": {},
     "output_type": "display_data"
    }
   ],
   "source": [
    "ConfusionMatrixDisplay(confusion_matrix([x>.2 for x in merged.acc], merged.annotated)).plot();"
   ]
  },
  {
   "cell_type": "code",
   "execution_count": 56,
   "metadata": {},
   "outputs": [
    {
     "name": "stdout",
     "output_type": "stream",
     "text": [
      "              precision    recall  f1-score   support\n",
      "\n",
      "         0.0       0.34      0.59      0.43       122\n",
      "         1.0       0.89      0.74      0.81       537\n",
      "\n",
      "    accuracy                           0.71       659\n",
      "   macro avg       0.61      0.66      0.62       659\n",
      "weighted avg       0.79      0.71      0.74       659\n",
      "\n"
     ]
    }
   ],
   "source": [
    "print(classification_report(merged.annotated, [x>.2 for x in merged.acc]))"
   ]
  },
  {
   "attachments": {},
   "cell_type": "markdown",
   "metadata": {},
   "source": [
    "# Test"
   ]
  }
 ],
 "metadata": {
  "kernelspec": {
   "display_name": "condaAP",
   "language": "python",
   "name": "python3"
  },
  "language_info": {
   "codemirror_mode": {
    "name": "ipython",
    "version": 3
   },
   "file_extension": ".py",
   "mimetype": "text/x-python",
   "name": "python",
   "nbconvert_exporter": "python",
   "pygments_lexer": "ipython3",
   "version": "3.10.8"
  },
  "orig_nbformat": 4
 },
 "nbformat": 4,
 "nbformat_minor": 2
}
